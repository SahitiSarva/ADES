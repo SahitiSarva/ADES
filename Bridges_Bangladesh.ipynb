{
 "cells": [
  {
   "cell_type": "markdown",
   "metadata": {},
   "source": [
    "Fixed Errors - \n",
    "1. Exchanged latitudes and longotudes\n",
    "2. Replaced Nan latitudes and longitudes with zeroes"
   ]
  },
  {
   "cell_type": "code",
   "execution_count": 12,
   "metadata": {},
   "outputs": [],
   "source": [
    "import os\n",
    "import glob\n",
    "import plotly\n",
    "import osmnx as ox\n",
    "import plotly.express as px\n",
    "import networkx as nx\n",
    "import pandas as pd\n",
    "import geopandas as gpd\n",
    "import matplotlib.pyplot as plt\n",
    "import numpy as np\n",
    "from ipypb import track\n",
    "from shapely.geometry import Polygon, MultiPolygon\n",
    "from geopy.distance import vincenty"
   ]
  },
  {
   "cell_type": "code",
   "execution_count": 11,
   "metadata": {},
   "outputs": [],
   "source": [
    "Data_Path = \"C:\\\\Users\\\\sahit\\\\ADES\\\\ADES\\\\DataSource\""
   ]
  },
  {
   "cell_type": "markdown",
   "metadata": {},
   "source": [
    "Potential Errors -\n",
    "1. Duplicate latitude and longitude \n",
    "2. Zero latitude and longitude "
   ]
  },
  {
   "cell_type": "markdown",
   "metadata": {},
   "source": [
    "Possible approaches - \n",
    "1. Check the difference in latitude and longitude and it must be meaningful \n",
    "2. Check the latitude difference with the chainage of the bridge part that is calculated. \n",
    "3. No IDs for some of the bridges (Column: name)\n",
    "4. Is it true that one road has one name?\n"
   ]
  },
  {
   "cell_type": "code",
   "execution_count": 120,
   "metadata": {},
   "outputs": [],
   "source": [
    "bridges = pd.read_excel(Data_Path + '\\\\BMMS_overview_SortedRoad.xlsx')"
   ]
  },
  {
   "cell_type": "code",
   "execution_count": 121,
   "metadata": {},
   "outputs": [
    {
     "data": {
      "text/html": [
       "<div>\n",
       "<style scoped>\n",
       "    .dataframe tbody tr th:only-of-type {\n",
       "        vertical-align: middle;\n",
       "    }\n",
       "\n",
       "    .dataframe tbody tr th {\n",
       "        vertical-align: top;\n",
       "    }\n",
       "\n",
       "    .dataframe thead th {\n",
       "        text-align: right;\n",
       "    }\n",
       "</style>\n",
       "<table border=\"1\" class=\"dataframe\">\n",
       "  <thead>\n",
       "    <tr style=\"text-align: right;\">\n",
       "      <th></th>\n",
       "      <th>road</th>\n",
       "      <th>km</th>\n",
       "      <th>type</th>\n",
       "      <th>LRPName</th>\n",
       "      <th>name</th>\n",
       "      <th>length</th>\n",
       "      <th>condition</th>\n",
       "      <th>structureNr</th>\n",
       "      <th>roadName</th>\n",
       "      <th>chainage</th>\n",
       "      <th>width</th>\n",
       "      <th>constructionYear</th>\n",
       "      <th>spans</th>\n",
       "      <th>zone</th>\n",
       "      <th>circle</th>\n",
       "      <th>division</th>\n",
       "      <th>sub-division</th>\n",
       "      <th>lat</th>\n",
       "      <th>lon</th>\n",
       "      <th>EstimatedLoc</th>\n",
       "    </tr>\n",
       "  </thead>\n",
       "  <tbody>\n",
       "    <tr>\n",
       "      <th>0</th>\n",
       "      <td>N1</td>\n",
       "      <td>1.800</td>\n",
       "      <td>Box Culvert</td>\n",
       "      <td>LRP001a</td>\n",
       "      <td>.</td>\n",
       "      <td>11.30</td>\n",
       "      <td>A</td>\n",
       "      <td>117861</td>\n",
       "      <td>Dhaka (Jatrabari)-Comilla (Mainamati)-Chittago...</td>\n",
       "      <td>1.8</td>\n",
       "      <td>19.50</td>\n",
       "      <td>2005.0</td>\n",
       "      <td>2.0</td>\n",
       "      <td>Dhaka</td>\n",
       "      <td>Dhaka</td>\n",
       "      <td>Narayanganj</td>\n",
       "      <td>Narayanganj-1</td>\n",
       "      <td>23.702889</td>\n",
       "      <td>90.450389</td>\n",
       "      <td>bcs1</td>\n",
       "    </tr>\n",
       "    <tr>\n",
       "      <th>1</th>\n",
       "      <td>N1</td>\n",
       "      <td>4.925</td>\n",
       "      <td>Box Culvert</td>\n",
       "      <td>LRP004b</td>\n",
       "      <td>.</td>\n",
       "      <td>6.60</td>\n",
       "      <td>A</td>\n",
       "      <td>117862</td>\n",
       "      <td>Dhaka (Jatrabari)-Comilla (Mainamati)-Chittago...</td>\n",
       "      <td>4.925</td>\n",
       "      <td>35.40</td>\n",
       "      <td>2006.0</td>\n",
       "      <td>1.0</td>\n",
       "      <td>Dhaka</td>\n",
       "      <td>Dhaka</td>\n",
       "      <td>Narayanganj</td>\n",
       "      <td>Narayanganj-1</td>\n",
       "      <td>23.693611</td>\n",
       "      <td>90.478833</td>\n",
       "      <td>bcs1</td>\n",
       "    </tr>\n",
       "    <tr>\n",
       "      <th>2</th>\n",
       "      <td>N1</td>\n",
       "      <td>8.976</td>\n",
       "      <td>PC Girder Bridge</td>\n",
       "      <td>LRP008b</td>\n",
       "      <td>Kanch pur Bridge.</td>\n",
       "      <td>394.23</td>\n",
       "      <td>A</td>\n",
       "      <td>119889</td>\n",
       "      <td>Dhaka (Jatrabari)-Comilla (Mainamati)-Chittago...</td>\n",
       "      <td>8.976</td>\n",
       "      <td>NaN</td>\n",
       "      <td>NaN</td>\n",
       "      <td>NaN</td>\n",
       "      <td>Dhaka</td>\n",
       "      <td>Dhaka</td>\n",
       "      <td>Narayanganj</td>\n",
       "      <td>Narayanganj-1</td>\n",
       "      <td>23.704583</td>\n",
       "      <td>90.518833</td>\n",
       "      <td>road_precise</td>\n",
       "    </tr>\n",
       "    <tr>\n",
       "      <th>3</th>\n",
       "      <td>N1</td>\n",
       "      <td>8.976</td>\n",
       "      <td>PC Girder Bridge</td>\n",
       "      <td>LRP008b</td>\n",
       "      <td>KANCHPUR PC GIRDER BRIDGE</td>\n",
       "      <td>397.00</td>\n",
       "      <td>C</td>\n",
       "      <td>101102</td>\n",
       "      <td>Dhaka (Jatrabari)-Comilla (Mainamati)-Chittago...</td>\n",
       "      <td>8.976</td>\n",
       "      <td>14.65</td>\n",
       "      <td>1986.0</td>\n",
       "      <td>8.0</td>\n",
       "      <td>Dhaka</td>\n",
       "      <td>Dhaka</td>\n",
       "      <td>Narayanganj</td>\n",
       "      <td>Narayanganj-1</td>\n",
       "      <td>23.702083</td>\n",
       "      <td>90.515917</td>\n",
       "      <td>bcs1</td>\n",
       "    </tr>\n",
       "    <tr>\n",
       "      <th>4</th>\n",
       "      <td>N1</td>\n",
       "      <td>10.543</td>\n",
       "      <td>Box Culvert</td>\n",
       "      <td>LRP010a</td>\n",
       "      <td>KATCHPUR BOX CULVERT</td>\n",
       "      <td>8.00</td>\n",
       "      <td>B</td>\n",
       "      <td>101106</td>\n",
       "      <td>Dhaka (Jatrabari)-Comilla (Mainamati)-Chittago...</td>\n",
       "      <td>10.543</td>\n",
       "      <td>21.70</td>\n",
       "      <td>1987.0</td>\n",
       "      <td>2.0</td>\n",
       "      <td>Dhaka</td>\n",
       "      <td>Dhaka</td>\n",
       "      <td>Narayanganj</td>\n",
       "      <td>Vitikandi</td>\n",
       "      <td>23.702056</td>\n",
       "      <td>90.528194</td>\n",
       "      <td>bcs1</td>\n",
       "    </tr>\n",
       "  </tbody>\n",
       "</table>\n",
       "</div>"
      ],
      "text/plain": [
       "  road      km              type  LRPName                       name  length  \\\n",
       "0   N1   1.800       Box Culvert  LRP001a                          .   11.30   \n",
       "1   N1   4.925       Box Culvert  LRP004b                          .    6.60   \n",
       "2   N1   8.976  PC Girder Bridge  LRP008b          Kanch pur Bridge.  394.23   \n",
       "3   N1   8.976  PC Girder Bridge  LRP008b  KANCHPUR PC GIRDER BRIDGE  397.00   \n",
       "4   N1  10.543       Box Culvert  LRP010a       KATCHPUR BOX CULVERT    8.00   \n",
       "\n",
       "  condition  structureNr                                           roadName  \\\n",
       "0         A       117861  Dhaka (Jatrabari)-Comilla (Mainamati)-Chittago...   \n",
       "1         A       117862  Dhaka (Jatrabari)-Comilla (Mainamati)-Chittago...   \n",
       "2         A       119889  Dhaka (Jatrabari)-Comilla (Mainamati)-Chittago...   \n",
       "3         C       101102  Dhaka (Jatrabari)-Comilla (Mainamati)-Chittago...   \n",
       "4         B       101106  Dhaka (Jatrabari)-Comilla (Mainamati)-Chittago...   \n",
       "\n",
       "  chainage  width  constructionYear  spans   zone circle     division  \\\n",
       "0      1.8  19.50            2005.0    2.0  Dhaka  Dhaka  Narayanganj   \n",
       "1    4.925  35.40            2006.0    1.0  Dhaka  Dhaka  Narayanganj   \n",
       "2    8.976    NaN               NaN    NaN  Dhaka  Dhaka  Narayanganj   \n",
       "3    8.976  14.65            1986.0    8.0  Dhaka  Dhaka  Narayanganj   \n",
       "4   10.543  21.70            1987.0    2.0  Dhaka  Dhaka  Narayanganj   \n",
       "\n",
       "    sub-division        lat        lon  EstimatedLoc  \n",
       "0  Narayanganj-1  23.702889  90.450389          bcs1  \n",
       "1  Narayanganj-1  23.693611  90.478833          bcs1  \n",
       "2  Narayanganj-1  23.704583  90.518833  road_precise  \n",
       "3  Narayanganj-1  23.702083  90.515917          bcs1  \n",
       "4      Vitikandi  23.702056  90.528194          bcs1  "
      ]
     },
     "execution_count": 121,
     "metadata": {},
     "output_type": "execute_result"
    }
   ],
   "source": [
    "bridges.head(5)"
   ]
  },
  {
   "cell_type": "code",
   "execution_count": 19,
   "metadata": {},
   "outputs": [
    {
     "data": {
      "text/plain": [
       "array(['Box Culvert', 'PC Girder Bridge', 'RCC Girder Bridge', 'PC Box',\n",
       "       'Slab Culvert', 'RCC Bridge', 'Arch Masonry',\n",
       "       'Truss With Timber Deck', 'Steel Beam & RCC Slab',\n",
       "       'Baily with Steel Deck', 'Truss with RCC Slab',\n",
       "       'Truss with Steel Deck', 'Baily with Timber Deck', 'Pipe Culvert'],\n",
       "      dtype=object)"
      ]
     },
     "execution_count": 19,
     "metadata": {},
     "output_type": "execute_result"
    }
   ],
   "source": [
    "bridges[\"type\"].unique()"
   ]
  },
  {
   "cell_type": "code",
   "execution_count": 122,
   "metadata": {},
   "outputs": [
    {
     "name": "stderr",
     "output_type": "stream",
     "text": [
      "C:\\Users\\sahit\\Anaconda3\\lib\\site-packages\\ipykernel_launcher.py:4: SettingWithCopyWarning:\n",
      "\n",
      "\n",
      "A value is trying to be set on a copy of a slice from a DataFrame\n",
      "\n",
      "See the caveats in the documentation: http://pandas.pydata.org/pandas-docs/stable/indexing.html#indexing-view-versus-copy\n",
      "\n",
      "C:\\Users\\sahit\\Anaconda3\\lib\\site-packages\\ipykernel_launcher.py:5: SettingWithCopyWarning:\n",
      "\n",
      "\n",
      "A value is trying to be set on a copy of a slice from a DataFrame\n",
      "\n",
      "See the caveats in the documentation: http://pandas.pydata.org/pandas-docs/stable/indexing.html#indexing-view-versus-copy\n",
      "\n"
     ]
    }
   ],
   "source": [
    "for i in range(len(bridges)):\n",
    "    if bridges['lat'][i]>90 :\n",
    "        c= bridges['lat'][i] \n",
    "        bridges['lat'][i] = bridges['lon'][i] \n",
    "        bridges['lon'][i] =c\n",
    "        "
   ]
  },
  {
   "cell_type": "code",
   "execution_count": 123,
   "metadata": {},
   "outputs": [],
   "source": [
    "bridges['lat'] = bridges['lat'].fillna(0)\n",
    "bridges['lon'] = bridges['lon'].fillna(0)"
   ]
  },
  {
   "cell_type": "code",
   "execution_count": 126,
   "metadata": {},
   "outputs": [
    {
     "data": {
      "text/plain": [
       "11526     0.000000\n",
       "8032      0.000000\n",
       "12821     0.000000\n",
       "7697      0.000000\n",
       "7689      0.000000\n",
       "12824     0.000000\n",
       "7663      0.000000\n",
       "11680     0.000000\n",
       "11679     0.000000\n",
       "20296     0.000000\n",
       "20294     0.000000\n",
       "11676     0.000000\n",
       "20291     0.000000\n",
       "20288     0.000000\n",
       "21404     0.000000\n",
       "21045     0.000000\n",
       "21040     0.000000\n",
       "16508     0.000000\n",
       "20485     0.000000\n",
       "11529     0.000000\n",
       "11532     0.000000\n",
       "1996      0.000000\n",
       "10102     0.000000\n",
       "11964     0.000000\n",
       "8034      0.000000\n",
       "15921     0.000000\n",
       "15930     0.000000\n",
       "15936     0.000000\n",
       "12678     0.000000\n",
       "10722     0.000000\n",
       "           ...    \n",
       "5612     92.411000\n",
       "5610     92.411500\n",
       "5611     92.414750\n",
       "5613     92.417444\n",
       "5614     92.418705\n",
       "5615     92.424861\n",
       "5616     92.427111\n",
       "11958    92.428528\n",
       "5633     92.431056\n",
       "5632     92.439139\n",
       "5631     92.441722\n",
       "5630     92.446972\n",
       "5617     92.448333\n",
       "5618     92.453056\n",
       "5629     92.453361\n",
       "5619     92.456361\n",
       "5628     92.463611\n",
       "5627     92.469389\n",
       "5620     92.470750\n",
       "5626     92.474444\n",
       "5624     92.476038\n",
       "5625     92.477028\n",
       "5621     92.483333\n",
       "5622     92.483725\n",
       "5623     92.497944\n",
       "11961    92.552417\n",
       "5047     92.640028\n",
       "13241    92.995278\n",
       "13121    92.999444\n",
       "12102    93.298416\n",
       "Name: lon, Length: 21407, dtype: float64"
      ]
     },
     "execution_count": 126,
     "metadata": {},
     "output_type": "execute_result"
    }
   ],
   "source": [
    "bridges['lon'].sort_values()"
   ]
  },
  {
   "cell_type": "code",
   "execution_count": 81,
   "metadata": {},
   "outputs": [],
   "source": [
    "def distance_calc (lat1, lon1, lat2, lon2):\n",
    "    start = (lat1, lon1)\n",
    "    stop = (lat2, lon2)\n",
    "\n",
    "    return vincenty(start, stop).kilometers"
   ]
  },
  {
   "cell_type": "code",
   "execution_count": 127,
   "metadata": {},
   "outputs": [],
   "source": [
    "lon = pd.concat([bridges['lon'].shift(), bridges.loc[1:, 'lon']], axis=1, ignore_index=True)\n",
    "lat = pd.concat([bridges['lat'].shift(), bridges.loc[1:, 'lat']], axis=1, ignore_index=True)"
   ]
  },
  {
   "cell_type": "code",
   "execution_count": 129,
   "metadata": {},
   "outputs": [],
   "source": [
    "lat.columns = ['startlat', 'stoplat']\n",
    "lon.columns = ['startlon', 'stoplon']"
   ]
  },
  {
   "cell_type": "code",
   "execution_count": 132,
   "metadata": {},
   "outputs": [],
   "source": [
    "lon.drop(lon.index[0],inplace= True)\n",
    "lat.drop(lat.index[0],inplace= True)"
   ]
  },
  {
   "cell_type": "code",
   "execution_count": 140,
   "metadata": {},
   "outputs": [],
   "source": [
    "lon = lon.reset_index(drop = True)\n",
    "lat = lat.reset_index(drop = True)"
   ]
  },
  {
   "cell_type": "code",
   "execution_count": 135,
   "metadata": {},
   "outputs": [
    {
     "data": {
      "text/html": [
       "<div>\n",
       "<style scoped>\n",
       "    .dataframe tbody tr th:only-of-type {\n",
       "        vertical-align: middle;\n",
       "    }\n",
       "\n",
       "    .dataframe tbody tr th {\n",
       "        vertical-align: top;\n",
       "    }\n",
       "\n",
       "    .dataframe thead th {\n",
       "        text-align: right;\n",
       "    }\n",
       "</style>\n",
       "<table border=\"1\" class=\"dataframe\">\n",
       "  <thead>\n",
       "    <tr style=\"text-align: right;\">\n",
       "      <th></th>\n",
       "      <th>index</th>\n",
       "      <th>startlat</th>\n",
       "      <th>stoplat</th>\n",
       "    </tr>\n",
       "  </thead>\n",
       "  <tbody>\n",
       "    <tr>\n",
       "      <th>0</th>\n",
       "      <td>1</td>\n",
       "      <td>23.702889</td>\n",
       "      <td>23.693611</td>\n",
       "    </tr>\n",
       "    <tr>\n",
       "      <th>1</th>\n",
       "      <td>2</td>\n",
       "      <td>23.693611</td>\n",
       "      <td>23.704583</td>\n",
       "    </tr>\n",
       "    <tr>\n",
       "      <th>2</th>\n",
       "      <td>3</td>\n",
       "      <td>23.704583</td>\n",
       "      <td>23.702083</td>\n",
       "    </tr>\n",
       "    <tr>\n",
       "      <th>3</th>\n",
       "      <td>4</td>\n",
       "      <td>23.702083</td>\n",
       "      <td>23.702056</td>\n",
       "    </tr>\n",
       "    <tr>\n",
       "      <th>4</th>\n",
       "      <td>5</td>\n",
       "      <td>23.702056</td>\n",
       "      <td>23.699833</td>\n",
       "    </tr>\n",
       "  </tbody>\n",
       "</table>\n",
       "</div>"
      ],
      "text/plain": [
       "   index   startlat    stoplat\n",
       "0      1  23.702889  23.693611\n",
       "1      2  23.693611  23.704583\n",
       "2      3  23.704583  23.702083\n",
       "3      4  23.702083  23.702056\n",
       "4      5  23.702056  23.699833"
      ]
     },
     "execution_count": 135,
     "metadata": {},
     "output_type": "execute_result"
    }
   ],
   "source": [
    "lat.head()"
   ]
  },
  {
   "cell_type": "code",
   "execution_count": 136,
   "metadata": {},
   "outputs": [
    {
     "data": {
      "text/html": [
       "<div>\n",
       "<style scoped>\n",
       "    .dataframe tbody tr th:only-of-type {\n",
       "        vertical-align: middle;\n",
       "    }\n",
       "\n",
       "    .dataframe tbody tr th {\n",
       "        vertical-align: top;\n",
       "    }\n",
       "\n",
       "    .dataframe thead th {\n",
       "        text-align: right;\n",
       "    }\n",
       "</style>\n",
       "<table border=\"1\" class=\"dataframe\">\n",
       "  <thead>\n",
       "    <tr style=\"text-align: right;\">\n",
       "      <th></th>\n",
       "      <th>index</th>\n",
       "      <th>startlon</th>\n",
       "      <th>stoplon</th>\n",
       "    </tr>\n",
       "  </thead>\n",
       "  <tbody>\n",
       "    <tr>\n",
       "      <th>0</th>\n",
       "      <td>1</td>\n",
       "      <td>90.450389</td>\n",
       "      <td>90.478833</td>\n",
       "    </tr>\n",
       "    <tr>\n",
       "      <th>1</th>\n",
       "      <td>2</td>\n",
       "      <td>90.478833</td>\n",
       "      <td>90.518833</td>\n",
       "    </tr>\n",
       "    <tr>\n",
       "      <th>2</th>\n",
       "      <td>3</td>\n",
       "      <td>90.518833</td>\n",
       "      <td>90.515917</td>\n",
       "    </tr>\n",
       "    <tr>\n",
       "      <th>3</th>\n",
       "      <td>4</td>\n",
       "      <td>90.515917</td>\n",
       "      <td>90.528194</td>\n",
       "    </tr>\n",
       "    <tr>\n",
       "      <th>4</th>\n",
       "      <td>5</td>\n",
       "      <td>90.528194</td>\n",
       "      <td>90.530722</td>\n",
       "    </tr>\n",
       "  </tbody>\n",
       "</table>\n",
       "</div>"
      ],
      "text/plain": [
       "   index   startlon    stoplon\n",
       "0      1  90.450389  90.478833\n",
       "1      2  90.478833  90.518833\n",
       "2      3  90.518833  90.515917\n",
       "3      4  90.515917  90.528194\n",
       "4      5  90.528194  90.530722"
      ]
     },
     "execution_count": 136,
     "metadata": {},
     "output_type": "execute_result"
    }
   ],
   "source": [
    "lon.head()"
   ]
  },
  {
   "cell_type": "code",
   "execution_count": 143,
   "metadata": {},
   "outputs": [],
   "source": [
    "bridges['dist']= np.zeros"
   ]
  },
  {
   "cell_type": "code",
   "execution_count": null,
   "metadata": {},
   "outputs": [
    {
     "name": "stderr",
     "output_type": "stream",
     "text": [
      "C:\\Users\\sahit\\Anaconda3\\lib\\site-packages\\ipykernel_launcher.py:5: DeprecationWarning:\n",
      "\n",
      "Vincenty is deprecated and is going to be removed in geopy 2.0. Use `geopy.distance.geodesic` (or the default `geopy.distance.distance`) instead, which is more accurate and always converges.\n",
      "\n",
      "C:\\Users\\sahit\\Anaconda3\\lib\\site-packages\\ipykernel_launcher.py:2: SettingWithCopyWarning:\n",
      "\n",
      "\n",
      "A value is trying to be set on a copy of a slice from a DataFrame\n",
      "\n",
      "See the caveats in the documentation: http://pandas.pydata.org/pandas-docs/stable/indexing.html#indexing-view-versus-copy\n",
      "\n"
     ]
    }
   ],
   "source": [
    "for i in range(len(lon)):\n",
    "        bridges['dist'][i] = distance_calc(lat['startlat'][i], lon['startlon'][i],lat['stoplat'][i], lon['stoplon'][i] )"
   ]
  }
 ],
 "metadata": {
  "kernelspec": {
   "display_name": "Python 3",
   "language": "python",
   "name": "python3"
  },
  "language_info": {
   "codemirror_mode": {
    "name": "ipython",
    "version": 3
   },
   "file_extension": ".py",
   "mimetype": "text/x-python",
   "name": "python",
   "nbconvert_exporter": "python",
   "pygments_lexer": "ipython3",
   "version": "3.7.3"
  }
 },
 "nbformat": 4,
 "nbformat_minor": 4
}
